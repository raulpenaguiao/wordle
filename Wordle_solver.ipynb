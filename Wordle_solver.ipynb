{
 "cells": [
  {
   "cell_type": "code",
   "execution_count": 2,
   "id": "0f51f141",
   "metadata": {},
   "outputs": [],
   "source": [
    "from math import log"
   ]
  },
  {
   "cell_type": "code",
   "execution_count": 3,
   "id": "3f25fd0a",
   "metadata": {},
   "outputs": [
    {
     "name": "stdout",
     "output_type": "stream",
     "text": [
      "There are  15920  words, the first is  aahed  and ending with  zymin\n"
     ]
    }
   ],
   "source": [
    "def check_word(word):\n",
    "    if not(len(word) == 5):\n",
    "        return False\n",
    "    for ch in word:\n",
    "        if ch.isnumeric():\n",
    "            return False\n",
    "    return True\n",
    "\n",
    "with open(\"words_raw.txt\", \"r\") as file:\n",
    "    words = file.read()\n",
    "    words = words.replace(\",\",\" \")\n",
    "    words = words.replace(\"\\n\",\" \")\n",
    "    words = words.replace(\"!\",\" \")\n",
    "    words = words.replace('\"',\" \")\n",
    "    words = words.replace('?',\" \")\n",
    "    words = words.replace(':',\" \")\n",
    "    words = words.replace('.',\" \")\n",
    "    word_list = words.split(\" \")\n",
    "word_list = [word.lower() for word in word_list if check_word(word)]\n",
    "file = open(\"words_tre.txt\", \"w\")\n",
    "file.write(\"\\n\".join(word_list))\n",
    "file.close()\n",
    "word_list.sort()\n",
    "new_word_list = []\n",
    "for i in range(len(word_list)-1):\n",
    "    if not(word_list[i] == word_list[i+1]):\n",
    "        new_word_list += [word_list[i]]\n",
    "new_word_list += [word_list[-1]]\n",
    "word_list = [w for w in new_word_list]\n",
    "print(\"There are \", len(word_list), \" words, the first is \", word_list[0], \" and ending with \", word_list[-1])"
   ]
  },
  {
   "cell_type": "code",
   "execution_count": 4,
   "id": "844ff08a",
   "metadata": {},
   "outputs": [],
   "source": [
    "def pattern(word1, word2):\n",
    "    #Calculates the pattern that word1 leaves when matched against word2 \n",
    "    #that is, if word2 is the correct answer\n",
    "    ans = [\"B\", \"B\", \"B\", \"B\", \"B\"]\n",
    "    dic2 = {}\n",
    "    for i in range(5):\n",
    "        if word1[i] == word2[i]:\n",
    "            ans[i] = \"G\"\n",
    "        else:\n",
    "            if word2[i] in dic2:\n",
    "                dic2[word2[i]] += 1\n",
    "            else:\n",
    "                dic2[word2[i]] = 1\n",
    "    for i in range(5):\n",
    "        if not(ans[i] == \"G\"):\n",
    "            if word1[i] in dic2 and dic2[word1[i]] > 0:\n",
    "                ans[i] = \"Y\"\n",
    "                dic2[word1[i]] -= 1\n",
    "    return \"\".join(ans).lower()\n",
    "\n",
    "\n",
    "def match(test_words, patts, verbose = False):\n",
    "    possible_words = [word for word in word_list]\n",
    "    for test, pat in zip(test_words, patts):\n",
    "        possible_words = [word for word in possible_words if pattern(test, word) == pat]\n",
    "        l = len(possible_words)\n",
    "        if verbose:\n",
    "            if l < 10:\n",
    "                print(possible_words)\n",
    "            else:\n",
    "                print(l)\n",
    "    return possible_words\n",
    "\n",
    "def entropy_dic(dic):\n",
    "    tot = 0\n",
    "    for key in dic:\n",
    "        tot += dic[key]\n",
    "    ans = 0\n",
    "    for key in dic:\n",
    "        ans -= log(dic[key]/tot)*(dic[key]/tot)\n",
    "    return ans\n",
    "\n",
    "\n",
    "def dist_word(test, words):\n",
    "    dic = {}\n",
    "    for word in words:\n",
    "        p = pattern(test, word)\n",
    "        if p in dic:\n",
    "            dic[p] += 1\n",
    "        else:\n",
    "            dic[p] = 1\n",
    "    return dic\n",
    "\n",
    "def entropy_word(test, words):\n",
    "    return entropy_dic(dist_word(test, words))\n",
    "\n",
    "\n",
    "def top_entropy(poss, j):\n",
    "    k = sorted([[-entropy_word(word, poss), word]for word in poss])\n",
    "    return k[:j]\n"
   ]
  },
  {
   "cell_type": "code",
   "execution_count": null,
   "id": "4e675f6e",
   "metadata": {},
   "outputs": [],
   "source": [
    "patterns = {} #This part will take a while! Do not run\n",
    "for word1 in word_list:\n",
    "    patterns[word1] = {}\n",
    "    for word2 in word_list:\n",
    "        patterns[word1][word2] = pattern(word1, word2)"
   ]
  },
  {
   "cell_type": "code",
   "execution_count": 10,
   "id": "5d445445",
   "metadata": {},
   "outputs": [
    {
     "name": "stdout",
     "output_type": "stream",
     "text": [
      "Tuesday, 18th July 2023 -  ['topau', 'topaz']\n",
      "Wednesday, 19th July 2023 -  ['ontic', 'tonic', 'tunic']\n",
      "Thursday, 20th July 2023 -  ['flank', 'plank']\n",
      "Thursday, 27th July 2023 -  ['disci', 'disco']\n",
      "Tuesday, 1st August 2023 -  ['tenth']\n",
      "Saturday, 5th August 2023 -  ['anode', 'ansae', 'antae']\n",
      "Wednesday, 23rd August 2023 -  ['verve']\n",
      "Wednesday, 23rd August 2023 -  ['bohor', 'borgh', 'bourd', 'bourg', 'bourr', 'burgh', 'buroo', 'burro', 'burry', 'dormy', 'dowry', 'duroy', 'durry', 'durum', 'fjord', 'forby', 'fordo', 'fordy', 'forgo', 'forky', 'formy', 'forum', 'fourb', 'furor', 'furry', 'furud', 'furzy', 'ghbor', 'gorry', 'gourd', 'goury', 'gurdy', 'gurry', 'horry', 'humor', 'hurry', 'hydro', 'jorum', 'juror', 'kodro', 'koorg', 'kurku', 'mhorr', 'mohur', 'moory', 'mordu', 'mordv', 'mormo', 'moror', 'morro', 'murky', 'murry', 'myrrh', 'odour', 'okrug', 'rhomb', 'rhumb', 'rhymy', 'robur', 'roguy', 'rohob', 'roofy', 'rooky', 'roomy', 'rough', 'rougy', 'rouky', 'rowdy', 'royou', 'rozum', 'rubby', 'rubor', 'ruddy', 'rugby', 'ruggy', 'rumbo', 'rummy', 'rumor', 'uhuru', 'uvrou', 'whory', 'wordy', 'worky', 'wormy', 'worry', 'yurok', 'yuruk', 'zokor', 'zorro']\n"
     ]
    }
   ],
   "source": [
    "print(\"Tuesday, 18th July 2023 - \", match([\"crane\", \"split\", \"patty\"], [\"bbybb\", \"bybby\", \"yyybb\"]))\n",
    "print(\"Wednesday, 19th July 2023 - \", match([\"crane\", \"split\"], [\"ybbyb\", \"bbbgy\"]))\n",
    "print(\"Thursday, 20th July 2023 - \", match([\"crane\", \"gilts\", \"blank\"], [\"bbggb\", \"bbybb\", \"bgggg\"]))\n",
    "print(\"Thursday, 27th July 2023 - \", match([\"crane\", \"split\", \"dicks\"], [\"ybbbb\", \"ybbyb\", \"ggyby\"]))\n",
    "print(\"Tuesday, 1st August 2023 - \", match([\"crane\", \"split\", \"noted\", \"thegn\"], [\"bbbyy\", \"bbbby\", \"ybyyb\", \"gyyby\"]))\n",
    "print(\"Saturday, 5th August 2023 - \", match([\"crane\", \"naive\", \"ankle\"], [\"bbyyg\", \"yybbg\", \"ggbbg\"]))\n",
    "print(\"Wednesday, 23rd August 2023 - \", match([\"crane\", \"split\", \"rogue\", \"where\", \"verde\"], [\"bybbg\", \"bbbbb\", \"ybbbg\", \"bbyyg\", \"gggbg\"]))\n",
    "print(\"Wednesday, 23rd August 2023 - \", match([\"crane\", \"split\"], [\"bybbb\", \"bbbbb\"]))"
   ]
  },
  {
   "cell_type": "code",
   "execution_count": 6,
   "id": "93512d5a",
   "metadata": {},
   "outputs": [
    {
     "data": {
      "text/plain": [
       "['airth',\n",
       " 'arith',\n",
       " 'azoth',\n",
       " 'chati',\n",
       " 'chita',\n",
       " 'cyath',\n",
       " 'lhota',\n",
       " 'loath',\n",
       " 'rhyta',\n",
       " 'thatd',\n",
       " 'thatn',\n",
       " 'tuath',\n",
       " 'whata',\n",
       " 'whatd',\n",
       " 'wrath']"
      ]
     },
     "execution_count": 6,
     "metadata": {},
     "output_type": "execute_result"
    }
   ],
   "source": [
    "match([\"haste\"], [\"yybgb\"])"
   ]
  },
  {
   "cell_type": "code",
   "execution_count": 13,
   "id": "c67cc907",
   "metadata": {},
   "outputs": [
    {
     "data": {
      "text/plain": [
       "[[-0.0, 'wordy']]"
      ]
     },
     "execution_count": 13,
     "metadata": {},
     "output_type": "execute_result"
    }
   ],
   "source": [
    "p = match([\"crane\", \"split\", \"murry\", \"forky\"], [\"bybbb\", \"bbbbb\", \"bbgbg\", \"bggbg\"])\n",
    "top_entropy(p, 5)"
   ]
  }
 ],
 "metadata": {
  "kernelspec": {
   "display_name": "Python 3",
   "language": "python",
   "name": "python3"
  },
  "language_info": {
   "codemirror_mode": {
    "name": "ipython",
    "version": 3
   },
   "file_extension": ".py",
   "mimetype": "text/x-python",
   "name": "python",
   "nbconvert_exporter": "python",
   "pygments_lexer": "ipython3",
   "version": "3.8.10"
  }
 },
 "nbformat": 4,
 "nbformat_minor": 5
}
