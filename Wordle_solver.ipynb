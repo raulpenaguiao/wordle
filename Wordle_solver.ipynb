{
 "cells": [
  {
   "cell_type": "code",
   "execution_count": 45,
   "id": "63058c65",
   "metadata": {},
   "outputs": [
    {
     "name": "stdout",
     "output_type": "stream",
     "text": [
      "There are  15920  words, the first is  aahed  and ending with  zymin\n"
     ]
    }
   ],
   "source": [
    "def check_word(word):\n",
    "    if not(len(word) == 5):\n",
    "        return False\n",
    "    for ch in word:\n",
    "        if ch.isnumeric():\n",
    "            return False\n",
    "    return True\n",
    "\n",
    "with open(\"words_raw.txt\", \"r\") as file:\n",
    "    words = file.read()\n",
    "    words = words.replace(\",\",\" \")\n",
    "    words = words.replace(\"\\n\",\" \")\n",
    "    words = words.replace(\"!\",\" \")\n",
    "    words = words.replace('\"',\" \")\n",
    "    words = words.replace('?',\" \")\n",
    "    words = words.replace(':',\" \")\n",
    "    words = words.replace('.',\" \")\n",
    "    word_list = words.split(\" \")\n",
    "word_list = [word.lower() for word in word_list if check_word(word)]\n",
    "file = open(\"words_tre.txt\", \"w\")\n",
    "file.write(\"\\n\".join(word_list))\n",
    "file.close()\n",
    "word_list.sort()\n",
    "new_word_list = []\n",
    "for i in range(len(word_list)-1):\n",
    "    if not(word_list[i] == word_list[i+1]):\n",
    "        new_word_list += [word_list[i]]\n",
    "new_word_list += [word_list[-1]]\n",
    "word_list = [w for w in new_word_list]\n",
    "print(\"There are \", len(word_list), \" words, the first is \", word_list[0], \" and ending with \", word_list[-1])"
   ]
  },
  {
   "cell_type": "code",
   "execution_count": 46,
   "id": "30a7be5a",
   "metadata": {},
   "outputs": [],
   "source": [
    "def pattern(word1, word2):\n",
    "    #Calculates the pattern that word1 leaves when matched against word2 \n",
    "    #that is, if word2 is the correct answer\n",
    "    ans = [\"B\", \"B\", \"B\", \"B\", \"B\"]\n",
    "    dic2 = {}\n",
    "    for i in range(5):\n",
    "        if word1[i] == word2[i]:\n",
    "            ans[i] = \"G\"\n",
    "        else:\n",
    "            if word2[i] in dic2:\n",
    "                dic2[word2[i]] += 1\n",
    "            else:\n",
    "                dic2[word2[i]] = 1\n",
    "    for i in range(5):\n",
    "        if not(ans[i] == \"G\"):\n",
    "            if word1[i] in dic2 and dic2[word1[i]] > 0:\n",
    "                ans[i] = \"Y\"\n",
    "                dic2[word1[i]] -= 1\n",
    "    return \"\".join(ans).lower()"
   ]
  },
  {
   "cell_type": "code",
   "execution_count": null,
   "id": "89a95686",
   "metadata": {},
   "outputs": [],
   "source": [
    "patterns = {} #This part will take a while!\n",
    "for word1 in word_list:\n",
    "    patterns[word1] = {}\n",
    "    for word2 in word_list:\n",
    "        patterns[word1][word2] = pattern(word1, word2)"
   ]
  },
  {
   "cell_type": "code",
   "execution_count": 36,
   "id": "fb704c28",
   "metadata": {},
   "outputs": [],
   "source": [
    "def match(test_words, patts):\n",
    "    possible_words = [word for word in word_list]\n",
    "    print(len(possible_words))\n",
    "    for test, pat in zip(test_words, patts):\n",
    "        possible_words = [word for word in possible_words if patterns[word][test] == pat]\n",
    "        l = len(possible_words)\n",
    "        if l < 10:\n",
    "            print(possible_words)\n",
    "        else:\n",
    "            print(l)\n",
    "    return possible_words"
   ]
  },
  {
   "cell_type": "code",
   "execution_count": 37,
   "id": "dc639d53",
   "metadata": {},
   "outputs": [
    {
     "name": "stdout",
     "output_type": "stream",
     "text": [
      "2334\n",
      "139\n",
      "['bleep', 'ficus', 'minus', 'vinyl', 'virus']\n",
      "[]\n",
      "[]\n"
     ]
    }
   ],
   "source": [
    "print(match([\"crane\", \"split\", \"patty\"], [\"bbybb\", \"bybby\", \"yyybb\"]))"
   ]
  }
 ],
 "metadata": {
  "kernelspec": {
   "display_name": "Python 3",
   "language": "python",
   "name": "python3"
  },
  "language_info": {
   "codemirror_mode": {
    "name": "ipython",
    "version": 3
   },
   "file_extension": ".py",
   "mimetype": "text/x-python",
   "name": "python",
   "nbconvert_exporter": "python",
   "pygments_lexer": "ipython3",
   "version": "3.8.10"
  }
 },
 "nbformat": 4,
 "nbformat_minor": 5
}
